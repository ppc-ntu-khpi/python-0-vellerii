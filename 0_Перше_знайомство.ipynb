{
  "nbformat": 4,
  "nbformat_minor": 0,
  "metadata": {
    "colab": {
      "name": "0. Перше знайомство",
      "provenance": [],
      "collapsed_sections": [],
      "toc_visible": true
    },
    "kernelspec": {
      "name": "python3",
      "display_name": "Python 3"
    },
    "language_info": {
      "name": "python"
    }
  },
  "cells": [
    {
      "cell_type": "markdown",
      "metadata": {
        "id": "hfPJrXDVab8V"
      },
      "source": [
        "# Перше знайомство з Python REPL"
      ]
    },
    {
      "cell_type": "markdown",
      "metadata": {
        "id": "omeNy4OFdD_h"
      },
      "source": [
        "У ході виконання цієї вправи ви будете використовувати REPL для оголошення змінних і виконання інструкцій."
      ]
    },
    {
      "cell_type": "markdown",
      "metadata": {
        "id": "RpUbBMA_frWR"
      },
      "source": [
        "## Виконання першого оператора Python\n",
        "Python підтримує інтерактивну консоль, в якій можна вводити команди і негайно бачити результат\n",
        "\n",
        "1. Запустіть на виконання наступну комірку з кодом аби потрапити в інтрепретатор Python, який працює в інтерактивному режимі (на локальній машині для цього треба ввести в консолі команду ```python``` )"
      ]
    },
    {
      "cell_type": "code",
      "metadata": {
        "id": "ei0oXo6dbriS",
        "colab": {
          "base_uri": "https://localhost:8080/",
          "height": 505
        },
        "outputId": "685e69d7-7448-4a4b-f4d7-e7fa817f7654"
      },
      "source": [
        "import IPython\n",
        "url = 'https://www.pythonanywhere.com/embedded3/'\n",
        "iframe = '<iframe src=' + url + ' width=95% height=480></iframe>'\n",
        "IPython.display.HTML(iframe)"
      ],
      "execution_count": null,
      "outputs": [
        {
          "output_type": "execute_result",
          "data": {
            "text/html": [
              "<iframe src=https://www.pythonanywhere.com/embedded3/ width=95% height=480></iframe>"
            ],
            "text/plain": [
              "<IPython.core.display.HTML object>"
            ]
          },
          "metadata": {},
          "execution_count": 1
        }
      ]
    },
    {
      "cell_type": "markdown",
      "metadata": {
        "id": "FcSrGdE0gkQp"
      },
      "source": [
        "2. Введіть в консолі, яка відкрилась, такий оператор:\n",
        "``` java\n",
        "print(\"Hello, world!\") \n",
        "```\n",
        "Ви маєте побачити вітання і запит нової команди."
      ]
    },
    {
      "cell_type": "markdown",
      "metadata": {
        "id": "sojYseo1hQZz"
      },
      "source": [
        "3. Отримайте довідку про оператор print, ввівши в консолі наступне:\n",
        "``` java\n",
        "help(print)\n",
        "```\n",
        "Аби вийти з цього режиму натисніть ``` q```"
      ]
    },
    {
      "cell_type": "markdown",
      "metadata": {
        "id": "P8JizwUMkl-E"
      },
      "source": [
        "## Оголошення та виведення значень змінних"
      ]
    },
    {
      "cell_type": "markdown",
      "metadata": {
        "id": "VF_wTDdEkuNb"
      },
      "source": [
        "1. Введіть наведений нижче код аби оголосити змінну:\n",
        "``` java\n",
        "PI = 3.14\n",
        "```\n",
        "2. Введіть ім'я змінної аби вивести її значення:\n",
        "``` java\n",
        "PI\n",
        "```\n",
        "3. Виведіть значення \"красиво\", скориставшись оператором print:\n",
        "``` java\n",
        "print(\"PI =\",PI)\n",
        "```"
      ]
    },
    {
      "cell_type": "markdown",
      "metadata": {
        "id": "f5qiF2Lu_66K"
      },
      "source": [
        "До речі, спробуйте ввести \n",
        "```python \n",
        "help(print)\n",
        "```\n",
        "і код з попереднього завдання в наступній комірці - він також спрацює!"
      ]
    },
    {
      "cell_type": "code",
      "metadata": {
        "id": "5th2Vjdu_10w"
      },
      "source": [
        ""
      ],
      "execution_count": null,
      "outputs": []
    },
    {
      "cell_type": "markdown",
      "metadata": {
        "id": "rTlYzOyjkmOM"
      },
      "source": [
        "Нагадую, що цю вправу ви також можете виконати на [Microsoft Learn](https://docs.microsoft.com/ru-ru/learn/modules/intro-to-python/5-exercise-output?source=learn)."
      ]
    }
  ]
}
