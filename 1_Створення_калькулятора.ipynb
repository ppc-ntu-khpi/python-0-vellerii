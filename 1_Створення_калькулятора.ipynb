{
  "nbformat": 4,
  "nbformat_minor": 0,
  "metadata": {
    "colab": {
      "name": "1. Створення калькулятора",
      "provenance": [],
      "collapsed_sections": [],
      "toc_visible": true
    },
    "kernelspec": {
      "name": "python3",
      "display_name": "Python 3"
    },
    "language_info": {
      "name": "python"
    }
  },
  "cells": [
    {
      "cell_type": "markdown",
      "metadata": {
        "id": "rlre0OlSmOCt"
      },
      "source": [
        "# Створення калькулятора"
      ]
    },
    {
      "cell_type": "markdown",
      "metadata": {
        "id": "Vf-hl0LhzbI4"
      },
      "source": [
        "1. Запустіть на виконання наступну комірку з кодом. Введіть потрібні дані й перегляньте результат"
      ]
    },
    {
      "cell_type": "code",
      "metadata": {
        "colab": {
          "base_uri": "https://localhost:8080/"
        },
        "id": "dhrvfmbmmbjk",
        "outputId": "50d33257-3b7d-4e69-9077-34feed34da6c"
      },
      "source": [
        "first_number = int(input('Введіть перше число: ')) ;\n",
        "second_number = int(input('Введіть друге число: ')) ;\n",
        "print(\"Сума чисел: \", first_number + second_number)"
      ],
      "execution_count": null,
      "outputs": [
        {
          "output_type": "stream",
          "text": [
            "Введіть перше число: 12\n",
            "Введіть друге число: 23\n",
            "Сума чисел:  35\n"
          ],
          "name": "stdout"
        }
      ]
    },
    {
      "cell_type": "markdown",
      "metadata": {
        "id": "E2jK9sw7zsCy"
      },
      "source": [
        "2. В наступній пустій комірці спробуйте переписати код так, щоб виводились **сума, різниця, добуток та частка** введених чисел:"
      ]
    },
    {
      "cell_type": "code",
      "metadata": {
        "id": "CmzAvUWJ4RF3"
      },
      "source": [
        ""
      ],
      "execution_count": null,
      "outputs": []
    },
    {
      "cell_type": "markdown",
      "metadata": {
        "id": "oxuEKHxW4WJU"
      },
      "source": [
        "3. А тепер давайте порахуємо відстань між Києвом та Полтавою у милях (1 миля = 1,60934 км), знаючи що в кілометрах це 305,3 км. Підказка: для заокруглення до першого знаку після коми використовуйте конструкцію \n",
        "``` python\n",
        "round(x, 1)\n",
        "```\n",
        "Результат обчислень збережіть у змінній ```distMiles```"
      ]
    },
    {
      "cell_type": "code",
      "metadata": {
        "id": "5XsPFvNI8q9b"
      },
      "source": [
        "distMiles = 0"
      ],
      "execution_count": null,
      "outputs": []
    },
    {
      "cell_type": "markdown",
      "metadata": {
        "id": "K7MSB5kX87wg"
      },
      "source": [
        "### Перевіримо чи все гаразд:\n",
        "До речі - це гарний приклад використання [Wolfram Alpha](https://www.wolframalpha.com/)!"
      ]
    },
    {
      "cell_type": "code",
      "metadata": {
        "id": "ocxz1jXhz7qH",
        "colab": {
          "base_uri": "https://localhost:8080/"
        },
        "outputId": "70197061-3eaa-4f23-d30c-31671418157d"
      },
      "source": [
        "!pip install wolframalpha\n",
        "app_id = '2ARWPW-8GAHYH5HQH'\n",
        "\n",
        "from wolframalpha import Client\n",
        "\n",
        "client = Client(app_id)\n",
        "res = client.query('distance between Poltava and Kiev') # in km or miles\n",
        "\n",
        "# якби результат складався б з кількох блоків даних\n",
        "#for pod in res.pods:\n",
        "#  for sub in pod.subpods:\n",
        "#    print(sub.plaintext)\n",
        "\n",
        "res = next(res.results).text\n",
        "# print(res)\n",
        "\n",
        "correct = float(res.split(' ')[0])\n",
        "if distMiles==correct:\n",
        "  print('Все правильно! Ви молодець!')\n",
        "else:\n",
        "  print(f\"Щось не те - має вийти {correct} миль, а у Вас вийшло {distMiles}!\")"
      ],
      "execution_count": null,
      "outputs": [
        {
          "output_type": "stream",
          "name": "stdout",
          "text": [
            "Requirement already satisfied: wolframalpha in /usr/local/lib/python3.7/dist-packages (5.0.0)\n",
            "Requirement already satisfied: jaraco.context in /usr/local/lib/python3.7/dist-packages (from wolframalpha) (4.0.0)\n",
            "Requirement already satisfied: more-itertools in /usr/local/lib/python3.7/dist-packages (from wolframalpha) (8.8.0)\n",
            "Requirement already satisfied: xmltodict in /usr/local/lib/python3.7/dist-packages (from wolframalpha) (0.12.0)\n",
            "Щось не те - має вийти 189.7 миль, а у Вас вийшло 0!\n"
          ]
        }
      ]
    },
    {
      "cell_type": "markdown",
      "metadata": {
        "id": "H8d21gii0QsQ"
      },
      "source": [
        "Нагадую, що цю вправу ви також можете виконати на [Microsoft Learn](https://docs.microsoft.com/ru-ru/learn/modules/intro-to-python/7-exercise-input)."
      ]
    },
    {
      "cell_type": "markdown",
      "metadata": {
        "id": "__msdISS82eX"
      },
      "source": [
        "### Результат виконання роботи:"
      ]
    },
    {
      "cell_type": "code",
      "metadata": {
        "colab": {
          "base_uri": "https://localhost:8080/"
        },
        "id": "e4KBs6IF4j_B",
        "outputId": "9cc35d94-ecd9-4991-9685-eaf3ac969c94"
      },
      "source": [
        "distMiles = round(305.3 / 1.60934, 1)\n",
        "print(distMiles)"
      ],
      "execution_count": null,
      "outputs": [
        {
          "output_type": "stream",
          "text": [
            "189.7\n"
          ],
          "name": "stdout"
        }
      ]
    }
  ]
}